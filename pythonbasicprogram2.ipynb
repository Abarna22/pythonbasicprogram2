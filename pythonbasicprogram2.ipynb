{
 "cells": [
  {
   "cell_type": "code",
   "execution_count": 6,
   "id": "c20b6989",
   "metadata": {},
   "outputs": [
    {
     "name": "stdout",
     "output_type": "stream",
     "text": [
      "enter km:4\n",
      "For 4  km = 2.48548476\n"
     ]
    }
   ],
   "source": [
    "\"\"\"1. Write a Python program to convert kilometers to miles?\n",
    "\n",
    "Ans\"\"\"\n",
    "n=int(input(\"enter km:\"))\n",
    "km = n * 0.62137119\n",
    "print(\"For {}  km = {}\". format(n,km))"
   ]
  },
  {
   "cell_type": "code",
   "execution_count": 7,
   "id": "5f981edf",
   "metadata": {},
   "outputs": [
    {
     "name": "stdout",
     "output_type": "stream",
     "text": [
      "enter celsius value for conversion:3\n",
      "For 3 celsius =37.4\n"
     ]
    }
   ],
   "source": [
    "\"\"\"2. Write a Python program to convert Celsius to Fahrenheit?\n",
    "Ans\"\"\"\n",
    "n=int(input(\"enter celsius value for conversion:\"))\n",
    "c=(n*1.8)+32\n",
    "print(\"For {} celsius ={}\".format(n,c))"
   ]
  },
  {
   "cell_type": "code",
   "execution_count": 10,
   "id": "9acc5938",
   "metadata": {},
   "outputs": [
    {
     "name": "stdout",
     "output_type": "stream",
     "text": [
      "enter year2020\n",
      "                                  2020\n",
      "\n",
      "      January                   February                   March\n",
      "Mo Tu We Th Fr Sa Su      Mo Tu We Th Fr Sa Su      Mo Tu We Th Fr Sa Su\n",
      "       1  2  3  4  5                      1  2                         1\n",
      " 6  7  8  9 10 11 12       3  4  5  6  7  8  9       2  3  4  5  6  7  8\n",
      "13 14 15 16 17 18 19      10 11 12 13 14 15 16       9 10 11 12 13 14 15\n",
      "20 21 22 23 24 25 26      17 18 19 20 21 22 23      16 17 18 19 20 21 22\n",
      "27 28 29 30 31            24 25 26 27 28 29         23 24 25 26 27 28 29\n",
      "                                                    30 31\n",
      "\n",
      "       April                      May                       June\n",
      "Mo Tu We Th Fr Sa Su      Mo Tu We Th Fr Sa Su      Mo Tu We Th Fr Sa Su\n",
      "       1  2  3  4  5                   1  2  3       1  2  3  4  5  6  7\n",
      " 6  7  8  9 10 11 12       4  5  6  7  8  9 10       8  9 10 11 12 13 14\n",
      "13 14 15 16 17 18 19      11 12 13 14 15 16 17      15 16 17 18 19 20 21\n",
      "20 21 22 23 24 25 26      18 19 20 21 22 23 24      22 23 24 25 26 27 28\n",
      "27 28 29 30               25 26 27 28 29 30 31      29 30\n",
      "\n",
      "        July                     August                  September\n",
      "Mo Tu We Th Fr Sa Su      Mo Tu We Th Fr Sa Su      Mo Tu We Th Fr Sa Su\n",
      "       1  2  3  4  5                      1  2          1  2  3  4  5  6\n",
      " 6  7  8  9 10 11 12       3  4  5  6  7  8  9       7  8  9 10 11 12 13\n",
      "13 14 15 16 17 18 19      10 11 12 13 14 15 16      14 15 16 17 18 19 20\n",
      "20 21 22 23 24 25 26      17 18 19 20 21 22 23      21 22 23 24 25 26 27\n",
      "27 28 29 30 31            24 25 26 27 28 29 30      28 29 30\n",
      "                          31\n",
      "\n",
      "      October                   November                  December\n",
      "Mo Tu We Th Fr Sa Su      Mo Tu We Th Fr Sa Su      Mo Tu We Th Fr Sa Su\n",
      "          1  2  3  4                         1          1  2  3  4  5  6\n",
      " 5  6  7  8  9 10 11       2  3  4  5  6  7  8       7  8  9 10 11 12 13\n",
      "12 13 14 15 16 17 18       9 10 11 12 13 14 15      14 15 16 17 18 19 20\n",
      "19 20 21 22 23 24 25      16 17 18 19 20 21 22      21 22 23 24 25 26 27\n",
      "26 27 28 29 30 31         23 24 25 26 27 28 29      28 29 30 31\n",
      "                          30\n",
      "\n"
     ]
    }
   ],
   "source": [
    "\"\"\"3. Write a Python program to display calendar?\n",
    "\n",
    "Ans\"\"\"\n",
    "import calendar\n",
    "yy=int(input(\"enter year\"))\n",
    "print(calendar.calendar(yy))"
   ]
  },
  {
   "cell_type": "code",
   "execution_count": 13,
   "id": "8658b688",
   "metadata": {},
   "outputs": [
    {
     "name": "stdout",
     "output_type": "stream",
     "text": [
      "enter a:67\n",
      "enter b:89\n",
      "a = 89\n",
      "b = 67\n"
     ]
    }
   ],
   "source": [
    "\"\"\"5. Write a Python program to swap two variables without temp variable?\n",
    "Ans\"\"\"\n",
    "\n",
    "a=int(input(\"enter a:\"))\n",
    "b=int(input(\"enter b:\"))\n",
    "a,b=b,a\n",
    "print(\"a =\", a)\n",
    "print(\"b =\", b)"
   ]
  },
  {
   "cell_type": "code",
   "execution_count": 14,
   "id": "25a017d4",
   "metadata": {},
   "outputs": [
    {
     "name": "stdout",
     "output_type": "stream",
     "text": [
      "enter a :1\n",
      "enter b :2\n",
      "enter c :3\n",
      "solution is (-2-1.4142135623730951j) and (-2+1.4142135623730951j)\n"
     ]
    }
   ],
   "source": [
    "\"\"\"4. Write a Python program to solve quadratic equation?\n",
    "Ans\"\"\"\n",
    "\n",
    "import cmath\n",
    "\n",
    "a=float(input(\"enter a :\"))\n",
    "b=float(input(\"enter b :\"))\n",
    "c=float(input(\"enter c :\"))\n",
    "\n",
    "d=(b*b)-(4*a*c)\n",
    "\n",
    "s1= (-b-cmath.sqrt(d)/2*a)\n",
    "s2= (-b+cmath.sqrt(d)/2*a)\n",
    "\n",
    "print(\"solution is {0} and {1}\".format(s1,s2))"
   ]
  },
  {
   "cell_type": "code",
   "execution_count": null,
   "id": "73b8c6c8",
   "metadata": {},
   "outputs": [],
   "source": []
  }
 ],
 "metadata": {
  "kernelspec": {
   "display_name": "Python 3",
   "language": "python",
   "name": "python3"
  },
  "language_info": {
   "codemirror_mode": {
    "name": "ipython",
    "version": 3
   },
   "file_extension": ".py",
   "mimetype": "text/x-python",
   "name": "python",
   "nbconvert_exporter": "python",
   "pygments_lexer": "ipython3",
   "version": "3.8.8"
  }
 },
 "nbformat": 4,
 "nbformat_minor": 5
}
